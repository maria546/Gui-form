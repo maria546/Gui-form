{
 "cells": [
  {
   "cell_type": "code",
   "execution_count": 6,
   "metadata": {},
   "outputs": [],
   "source": [
    "import PySimpleGUI as sg\n",
    "\n",
    "sg.theme('DarkAmber')\t# Add a touch of color\n",
    "# All the stuff inside your window.\n",
    "layout = [  [sg.Text('First Name'),sg.InputText()], \n",
    "            [sg.Text('Last Name'), sg.InputText()],\n",
    "            [sg.Text('Contact Number'), sg.InputText()],\n",
    "          [sg.Radio('Male     ', \"RADIO1\", default=True), sg.Radio('Female', \"RADIO1\")],\n",
    "          [sg.Text(\"Select Country :\") ,sg.InputCombo(('America', 'Austraila', 'India','Pakistan'), size=(20, 3))],\n",
    "          [sg.Text(\"Attatch Files\"),sg.Input() ,sg.FileBrowse()],\n",
    "          \n",
    "          [sg.Button('Ok'), sg.Button('Cancel')] ]\n",
    "\n",
    "#Create the Window\n",
    "window = sg.Window('Window Title', layout)\n",
    "# Event Loop to process \"events\" and get the \"values\" of the inputs\n",
    "while True:\n",
    "    event,values = window.read()\n",
    "    if event in (None, 'Cancel'):\t# if user closes window or clicks cancel\n",
    "        break\n",
    "    print('You entered ', values[0])\n",
    "#sg.popup(button,values)\n",
    "    \n",
    "\n",
    "window.close()\n",
    "\n",
    "\n"
   ]
  },
  {
   "cell_type": "code",
   "execution_count": null,
   "metadata": {},
   "outputs": [],
   "source": []
  },
  {
   "cell_type": "code",
   "execution_count": null,
   "metadata": {},
   "outputs": [],
   "source": []
  }
 ],
 "metadata": {
  "kernelspec": {
   "display_name": "Python 3",
   "language": "python",
   "name": "python3"
  },
  "language_info": {
   "codemirror_mode": {
    "name": "ipython",
    "version": 3
   },
   "file_extension": ".py",
   "mimetype": "text/x-python",
   "name": "python",
   "nbconvert_exporter": "python",
   "pygments_lexer": "ipython3",
   "version": "3.7.4"
  }
 },
 "nbformat": 4,
 "nbformat_minor": 2
}
